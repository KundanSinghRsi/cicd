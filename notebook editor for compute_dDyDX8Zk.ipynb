{
 "cells": [
  {
   "cell_type": "code",
   "execution_count": 0,
   "metadata": {},
   "outputs": [],
   "source": [
    "# -*- coding: utf-8 -*-\n",
    "import dataiku\n",
    "import pandas as pd, numpy as np\n",
    "from dataiku import pandasutils as pdu\n",
    "from sklearn.linear_model import LogisticRegression\n",
    "from sklearn import metrics\n",
    "from sklearn.metrics import confusion_matrix\n",
    "from sklearn.metrics import classification_report\n",
    "\n",
    "from sklearn.metrics import roc_auc_score\n",
    "from sklearn.metrics import roc_curve\n",
    "from sklearn.metrics import accuracy_score\n",
    "from sklearn.model_selection import train_test_split\n",
    "import matplotlib.pyplot as plt\n",
    "import seaborn as sn\n",
    "import pickle as pkl\n",
    "import io\n",
    "\n",
    "# Read recipe inputs\n",
    "preproces_data = dataiku.Dataset(\"preproces_data\")\n",
    "preproces_data_df = preproces_data.get_dataframe()"
   ]
  },
  {
   "cell_type": "code",
   "execution_count": 0,
   "metadata": {},
   "outputs": [],
   "source": [
    "preproces_data_df['target'].value_counts()"
   ]
  },
  {
   "cell_type": "code",
   "execution_count": 0,
   "metadata": {},
   "outputs": [],
   "source": [
    "preproces_data_df.iloc[:,-1].value_counts()"
   ]
  },
  {
   "cell_type": "code",
   "execution_count": 0,
   "metadata": {},
   "outputs": [],
   "source": [
    "df_dummie=pd.get_dummies(preproces_data_df.iloc[:,0:-1])"
   ]
  },
  {
   "cell_type": "code",
   "execution_count": 0,
   "metadata": {},
   "outputs": [],
   "source": [
    "X = df_dummie.iloc[:,0:-1]\n",
    "y = preproces_data_df.iloc[:,-1]\n",
    "np.random.seed(123)\n",
    "xTrain, xTest, y_train, y_test = train_test_split(X, y, test_size=0.3, random_state=1234)"
   ]
  },
  {
   "cell_type": "code",
   "execution_count": 0,
   "metadata": {},
   "outputs": [],
   "source": [
    "y_train.value_counts()"
   ]
  },
  {
   "cell_type": "code",
   "execution_count": 0,
   "metadata": {},
   "outputs": [],
   "source": [
    "logreg = LogisticRegression( C=0.9 , class_weight='balanced')\n",
    "logreg.fit(xTrain, y_train)\n",
    "print(logreg)"
   ]
  },
  {
   "cell_type": "code",
   "execution_count": 0,
   "metadata": {},
   "outputs": [],
   "source": [
    "y_pred = logreg.predict(xTest)\n",
    "# y_pred = np.where(logreg.predict_proba(X.iloc[:,1:])[:, 1] > 0.50362, 1, 0)\n",
    "print('Accuracy of logistic regression classifier on test set: {:.2f}' .format(accuracy_score(y_test, y_pred)))"
   ]
  },
  {
   "cell_type": "code",
   "execution_count": 0,
   "metadata": {},
   "outputs": [],
   "source": [
    "cf = confusion_matrix(y_test, y_pred)\n",
    "print(pd.DataFrame(cf))"
   ]
  },
  {
   "cell_type": "code",
   "execution_count": 0,
   "metadata": {},
   "outputs": [],
   "source": [
    "print(classification_report(y_test, y_pred))"
   ]
  },
  {
   "cell_type": "code",
   "execution_count": 0,
   "metadata": {},
   "outputs": [],
   "source": [
    "logit_roc_auc = roc_auc_score(y_test, logreg.predict_proba(xTest)[:, 1])\n",
    "fpr, tpr, thresholds = roc_curve(y_test, logreg.predict_proba(xTest)[:, 1])\n",
    "plt.figure()\n",
    "plt.plot(fpr, tpr, label='Logistic Regression (area = %0.2f)' % logit_roc_auc)\n",
    "plt.plot([0, 1], [0, 1],'r--')\n",
    "plt.xlim([0.0, 1.0])\n",
    "plt.ylim([0.0, 1.05])\n",
    "plt.xlabel('False Positive Rate')\n",
    "plt.ylabel('True Positive Rate')\n",
    "plt.title('Receiver operating characteristic')\n",
    "plt.legend(loc=\"lower right\")\n",
    "plt.savefig('Log_ROC')\n",
    "plt.show()"
   ]
  },
  {
   "cell_type": "code",
   "execution_count": 0,
   "metadata": {},
   "outputs": [],
   "source": [
    "sn.heatmap(cf, annot=True,  fmt='.2f', xticklabels = [\"0\", \"1\"] , yticklabels = [\"0\", \"1\"],  cmap = \"GnBu_r\")\n",
    "plt.ylabel('True Detractor',fontsize=12)\n",
    "plt.xlabel('Predicted Detractor',fontsize=12)"
   ]
  },
  {
   "cell_type": "code",
   "execution_count": 0,
   "metadata": {},
   "outputs": [],
   "source": [
    "clf_rp=classification_report(y_test, y_pred,output_dict=True)"
   ]
  },
  {
   "cell_type": "code",
   "execution_count": 0,
   "metadata": {},
   "outputs": [],
   "source": [
    "clf_rp_df=pd.DataFrame(clf_rp).transpose()"
   ]
  },
  {
   "cell_type": "code",
   "execution_count": 0,
   "metadata": {},
   "outputs": [],
   "source": [
    "clf_rp_df"
   ]
  },
  {
   "cell_type": "code",
   "execution_count": 0,
   "metadata": {},
   "outputs": [],
   "source": [
    "# Write recipe outputs\n",
    "model_results = dataiku.Folder(\"dDyDX8Zk\")\n",
    "model_results_info = model_results.get_info()"
   ]
  },
  {
   "cell_type": "code",
   "execution_count": 0,
   "metadata": {},
   "outputs": [],
   "source": [
    "#save model\n",
    "path=model_results_info['accessInfo']['root']"
   ]
  },
  {
   "cell_type": "code",
   "execution_count": 0,
   "metadata": {},
   "outputs": [],
   "source": [
    "path"
   ]
  },
  {
   "cell_type": "code",
   "execution_count": 0,
   "metadata": {},
   "outputs": [],
   "source": [
    "#save plot\n",
    "bs = io.BytesIO()\n",
    "plt.savefig(bs, format=\"png\")\n",
    "model_results.upload_stream(\"confusion_matrix_plot.png\", bs.getvalue())"
   ]
  },
  {
   "cell_type": "code",
   "execution_count": 0,
   "metadata": {},
   "outputs": [],
   "source": [
    "with model_results.get_writer(\"Model_metrics.csv\") as writer:\n",
    "    writer.write(clf_rp_df.to_csv(index = False).encode(\"utf-8\"))"
   ]
  },
  {
   "cell_type": "code",
   "execution_count": 0,
   "metadata": {},
   "outputs": [],
   "source": [
    "with open(\"model.pkl\",\"wb\") as m:\n",
    "    pkl.dump(logreg,m)"
   ]
  }
 ],
 "metadata": {
  "associatedRecipe": "model_training",
  "createdOn": 1681752368455,
  "creationTag": {
   "lastModifiedBy": {
    "login": "lingamjetta1606@gmail.com"
   },
   "lastModifiedOn": 1681752368455,
   "versionNumber": 0
  },
  "creator": "lingamjetta1606@gmail.com",
  "customFields": {},
  "dkuGit": {
   "lastInteraction": 0
  },
  "kernelspec": {
   "display_name": "Python in CPU-M-1-cpu-4Gb-Ram (builtin env)",
   "language": "python",
   "name": "py-dku-containerized-venv--cpu-m-1-cpu-4gb-ram"
  },
  "tags": [
   "recipe-editor"
  ]
 },
 "nbformat": 4,
 "nbformat_minor": 0
}

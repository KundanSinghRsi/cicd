{
 "cells": [
  {
   "cell_type": "code",
   "execution_count": 0,
   "metadata": {},
   "outputs": [],
   "source": [
    "# -*- coding: utf-8 -*-\n",
    "import dataiku\n",
    "import pandas as pd, numpy as np\n",
    "from dataiku import pandasutils as pdu\n",
    "\n",
    "# Read recipe inputs\n",
    "home_insurance = dataiku.Dataset(\"home_insurance_1\")\n",
    "home_insurance_df = home_insurance.get_dataframe()"
   ]
  },
  {
   "cell_type": "code",
   "execution_count": 0,
   "metadata": {},
   "outputs": [],
   "source": [
    "home_insurance_df"
   ]
  },
  {
   "cell_type": "code",
   "execution_count": 0,
   "metadata": {},
   "outputs": [],
   "source": [
    "percent_blank = (home_insurance_df.isnull().sum()/len(home_insurance_df))"
   ]
  },
  {
   "cell_type": "code",
   "execution_count": 0,
   "metadata": {},
   "outputs": [],
   "source": [
    "columns_to_drop = (percent_blank[percent_blank>0.3].to_frame().reset_index())['index'].tolist()\n",
    "columns_to_drop"
   ]
  },
  {
   "cell_type": "code",
   "execution_count": 0,
   "metadata": {},
   "outputs": [],
   "source": [
    "home_insurance_df = home_insurance_df.drop(columns = columns_to_drop , axis =1 )"
   ]
  },
  {
   "cell_type": "code",
   "execution_count": 0,
   "metadata": {},
   "outputs": [],
   "source": [
    "home_insurance_df = (home_insurance_df.dropna()).reset_index(drop=True)"
   ]
  },
  {
   "cell_type": "code",
   "execution_count": 0,
   "metadata": {},
   "outputs": [],
   "source": [
    "home_insurance_df = home_insurance_df.drop(['COVER_START'],axis=1)\n",
    "home_insurance_df['P1_AGE'] = ([90 if x=='#VALUE!' or int(x)>90 else x for x in (home_insurance_df['P1_AGE'])])\n",
    "home_insurance_df['policy_start_month'] = [str(x[3:5]) for x in home_insurance_df['policy_start_date']]"
   ]
  },
  {
   "cell_type": "code",
   "execution_count": 0,
   "metadata": {},
   "outputs": [],
   "source": [
    "home_insurance_df['target'] = [1 if x=='Lapsed' or x=='Cancelled' else 0 for x in home_insurance_df['POL_STATUS']]"
   ]
  },
  {
   "cell_type": "code",
   "execution_count": 0,
   "metadata": {},
   "outputs": [],
   "source": [
    "home_insurance_df = home_insurance_df.drop(columns = ['policy_start_date','P1_DOB','POL_STATUS'],axis=1)\n",
    "\n",
    "home_insurance_df['P1_AGE'] = [int(x) for x in home_insurance_df['P1_AGE'] ]\n",
    "\n",
    "home_insurance_df = home_insurance_df.drop(columns = 'Policy_id',axis=1)"
   ]
  },
  {
   "cell_type": "code",
   "execution_count": 0,
   "metadata": {},
   "outputs": [],
   "source": [
    "# Compute recipe outputs from inputs\n",
    "# TODO: Replace this part by your actual code that computes the output, as a Pandas dataframe\n",
    "# NB: DSS also supports other kinds of APIs for reading and writing data. Please see doc.\n",
    "\n",
    "preproces_data_df = home_insurance_df # For this sample code, simply copy input to output\n",
    "\n",
    "\n",
    "# Write recipe outputs\n",
    "preproces_data = dataiku.Dataset(\"preproces_data\")\n",
    "preproces_data.write_with_schema(preproces_data_df)"
   ]
  }
 ],
 "metadata": {
  "associatedRecipe": "data_preprocess",
  "createdOn": 1681751620817,
  "creationTag": {
   "lastModifiedBy": {
    "login": "lingamjetta1606@gmail.com"
   },
   "lastModifiedOn": 1681751620817,
   "versionNumber": 0
  },
  "creator": "lingamjetta1606@gmail.com",
  "customFields": {},
  "dkuGit": {
   "lastInteraction": 0
  },
  "hide_input": false,
  "kernelspec": {
   "display_name": "Python in CPU-M-1-cpu-4Gb-Ram (builtin env)",
   "language": "python",
   "name": "py-dku-containerized-venv--cpu-m-1-cpu-4gb-ram"
  },
  "language_info": {
   "codemirror_mode": {
    "name": "ipython",
    "version": 3
   },
   "file_extension": ".py",
   "mimetype": "text/x-python",
   "name": "python",
   "nbconvert_exporter": "python",
   "pygments_lexer": "ipython3",
   "version": "3.6.8"
  },
  "modifiedBy": "lingamjetta1606@gmail.com",
  "tags": [
   "recipe-editor"
  ]
 },
 "nbformat": 4,
 "nbformat_minor": 1
}

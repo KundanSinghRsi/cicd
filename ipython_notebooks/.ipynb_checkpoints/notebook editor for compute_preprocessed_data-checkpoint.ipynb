{
  "nbformat": 4,
  "nbformat_minor": 0,
  "metadata": {
    "kernelspec": {
      "display_name": "Python in CPU-M-1-cpu-4Gb-Ram (builtin env)",
      "language": "python",
      "name": "py-dku-containerized-venv--cpu-m-1-cpu-4gb-ram"
    },
    "associatedRecipe": "compute_preprocessed_data",
    "creator": "kundan.singh@rsystems.com",
    "createdOn": 1682402428447,
    "tags": [
      "recipe-editor"
    ],
    "customFields": {}
  },
  "cells": [
    {
      "cell_type": "code",
      "metadata": {},
      "outputs": [],
      "execution_count": 0,
      "source": [
        "# -*- coding: utf-8 -*-\n",
        "import dataiku\n",
        "import pandas as pd, numpy as np\n",
        "from dataiku import pandasutils as pdu\n",
        "\n",
        "# Read recipe inputs\n",
        "home_insurance_1_distinct \u003d dataiku.Dataset(\"home_insurance_1_distinct\")\n",
        "home_insurance_1_distinct_df \u003d home_insurance_1_distinct.get_dataframe()\n",
        "\n",
        "\n",
        "# Compute recipe outputs from inputs\n",
        "# TODO: Replace this part by your actual code that computes the output, as a Pandas dataframe\n",
        "# NB: DSS also supports other kinds of APIs for reading and writing data. Please see doc.\n",
        "\n",
        "\n",
        "\n",
        "\n",
        "\n",
        "\n",
        "\n",
        "preprocessed_data_df \u003d home_insurance_1_distinct_df # For this sample code, simply copy input to output\n",
        "\n",
        "\n",
        "# Write recipe outputs\n",
        "preprocessed_data \u003d dataiku.Dataset(\"preprocessed_data\")\n",
        "preprocessed_data.write_with_schema(preprocessed_data_df)"
      ]
    }
  ]
}
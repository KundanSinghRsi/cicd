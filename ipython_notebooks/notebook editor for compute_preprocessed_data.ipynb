{
  "metadata": {
    "kernelspec": {
      "name": "py-dku-containerized-venv--cpu-m-1-cpu-4gb-ram",
      "display_name": "Python in CPU-M-1-cpu-4Gb-Ram (builtin env)",
      "language": "python"
    },
    "associatedRecipe": "compute_preprocessed_data",
    "creator": "kundan.singh@rsystems.com",
    "createdOn": 1682402428447,
    "tags": [
      "recipe-editor"
    ],
    "customFields": {},
    "hide_input": false,
    "language_info": {
      "name": "python",
      "version": "3.6.8",
      "mimetype": "text/x-python",
      "codemirror_mode": {
        "name": "ipython",
        "version": 3
      },
      "pygments_lexer": "ipython3",
      "nbconvert_exporter": "python",
      "file_extension": ".py"
    },
    "modifiedBy": "kundan.singh@rsystems.com"
  },
  "nbformat": 4,
  "nbformat_minor": 1,
  "cells": [
    {
      "execution_count": 0,
      "cell_type": "code",
      "metadata": {},
      "source": [
        "# -*- coding: utf-8 -*-\nimport dataiku\nimport pandas as pd, numpy as np\nfrom dataiku import pandasutils as pdu\n\n# Read recipe inputs\nhome_insurance_1_distinct \u003d dataiku.Dataset(\"home_insurance_1_distinct\")\nhome_insurance_1_distinct_df \u003d home_insurance_1_distinct.get_dataframe()\n# Compute recipe outputs from inputs\n# TODO: Replace this part by your actual code that computes the output, as a Pandas dataframe\n# NB: DSS also supports other kinds of APIs for reading and writing data. Please see doc."
      ],
      "outputs": []
    },
    {
      "execution_count": 0,
      "cell_type": "code",
      "metadata": {},
      "source": [
        "home_insurance_1_distinct_df"
      ],
      "outputs": []
    },
    {
      "execution_count": 0,
      "cell_type": "code",
      "metadata": {},
      "source": [
        "percent_blank \u003d (home_insurance_1_distinct_df.isnull().sum()/len(home_insurance_1_distinct_df))"
      ],
      "outputs": []
    },
    {
      "execution_count": 0,
      "cell_type": "code",
      "metadata": {},
      "source": [
        "columns_to_drop \u003d (percent_blank[percent_blank\u003e0.3].to_frame().reset_index())[\u0027index\u0027].tolist()\ncolumns_to_drop"
      ],
      "outputs": []
    },
    {
      "execution_count": 0,
      "cell_type": "code",
      "metadata": {},
      "source": [
        "home_insurance_df \u003d home_insurance_1_distinct_df.drop(columns \u003d columns_to_drop , axis \u003d1 )"
      ],
      "outputs": []
    },
    {
      "execution_count": 0,
      "cell_type": "code",
      "metadata": {},
      "source": [
        "home_insurance_df \u003d (home_insurance_df.dropna()).reset_index(drop\u003dTrue)"
      ],
      "outputs": []
    },
    {
      "execution_count": 0,
      "cell_type": "code",
      "metadata": {},
      "source": [
        "home_insurance_df \u003d home_insurance_df.drop([\u0027COVER_START\u0027],axis\u003d1)\nhome_insurance_df[\u0027P1_AGE\u0027] \u003d ([90 if x\u003d\u003d\u0027#VALUE!\u0027 or int(x)\u003e90 else x for x in (home_insurance_df[\u0027P1_AGE\u0027])])\nhome_insurance_df[\u0027policy_start_month\u0027] \u003d [str(x[3:5]) for x in home_insurance_df[\u0027policy_start_date\u0027]]"
      ],
      "outputs": []
    },
    {
      "execution_count": 0,
      "cell_type": "code",
      "metadata": {},
      "source": [
        "home_insurance_df[\u0027target\u0027] \u003d [1 if x\u003d\u003d\u0027Lapsed\u0027 or x\u003d\u003d\u0027Cancelled\u0027 else 0 for x in home_insurance_df[\u0027POL_STATUS\u0027]]"
      ],
      "outputs": []
    },
    {
      "execution_count": 0,
      "cell_type": "code",
      "metadata": {},
      "source": [
        "home_insurance_df \u003d home_insurance_df.drop(columns \u003d [\u0027policy_start_date\u0027,\u0027P1_DOB\u0027,\u0027POL_STATUS\u0027],axis\u003d1)\n\nhome_insurance_df[\u0027P1_AGE\u0027] \u003d [int(x) for x in home_insurance_df[\u0027P1_AGE\u0027] ]\n\nhome_insurance_df \u003d home_insurance_df.drop(columns \u003d \u0027Policy_id\u0027,axis\u003d1)"
      ],
      "outputs": []
    },
    {
      "execution_count": 0,
      "cell_type": "code",
      "metadata": {},
      "source": [
        "preprocessed_data_df \u003d home_insurance_df # For this sample code, simply copy input to output\n\n\n# Write recipe outputs\npreprocessed_data \u003d dataiku.Dataset(\"preprocessed_data\")\npreprocessed_data.write_with_schema(preprocessed_data_df)"
      ],
      "outputs": []
    }
  ]
}